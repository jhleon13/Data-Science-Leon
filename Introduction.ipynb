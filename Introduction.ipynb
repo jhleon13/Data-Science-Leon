{
 "cells": [
  {
   "cell_type": "code",
   "execution_count": 5,
   "metadata": {},
   "outputs": [
    {
     "data": {
      "text/plain": [
       "[['id',\n",
       "  'track_name',\n",
       "  'size_bytes',\n",
       "  'currency',\n",
       "  'price',\n",
       "  'rating_count_tot',\n",
       "  'rating_count_ver',\n",
       "  'user_rating',\n",
       "  'user_rating_ver',\n",
       "  'ver',\n",
       "  'cont_rating',\n",
       "  'prime_genre',\n",
       "  'sup_devices.num',\n",
       "  'ipadSc_urls.num',\n",
       "  'lang.num',\n",
       "  'vpp_lic'],\n",
       " ['281656475',\n",
       "  'PAC-MAN Premium',\n",
       "  '100788224',\n",
       "  'USD',\n",
       "  '3.99',\n",
       "  '21292',\n",
       "  '26',\n",
       "  '4',\n",
       "  '4.5',\n",
       "  '6.3.5',\n",
       "  '4+',\n",
       "  'Games',\n",
       "  '38',\n",
       "  '5',\n",
       "  '10',\n",
       "  '1'],\n",
       " ['281796108',\n",
       "  'Evernote - stay organized',\n",
       "  '158578688',\n",
       "  'USD',\n",
       "  '0',\n",
       "  '161065',\n",
       "  '26',\n",
       "  '4',\n",
       "  '3.5',\n",
       "  '8.2.2',\n",
       "  '4+',\n",
       "  'Productivity',\n",
       "  '37',\n",
       "  '5',\n",
       "  '23',\n",
       "  '1'],\n",
       " ['281940292',\n",
       "  'WeatherBug - Local Weather, Radar, Maps, Alerts',\n",
       "  '100524032',\n",
       "  'USD',\n",
       "  '0',\n",
       "  '188583',\n",
       "  '2822',\n",
       "  '3.5',\n",
       "  '4.5',\n",
       "  '5.0.0',\n",
       "  '4+',\n",
       "  'Weather',\n",
       "  '37',\n",
       "  '5',\n",
       "  '3',\n",
       "  '1']]"
      ]
     },
     "execution_count": 5,
     "metadata": {},
     "output_type": "execute_result"
    }
   ],
   "source": [
    "opened_file = open('AppleStore.csv')\n",
    "from csv import reader\n",
    "read_file = reader(opened_file)\n",
    "apps_data = list(read_file)\n",
    "for n in apps_data:\n",
    "    del n[0]\n",
    "    \n",
    "apps_data[:4]\n"
   ]
  },
  {
   "cell_type": "code",
   "execution_count": 2,
   "metadata": {},
   "outputs": [],
   "source": [
    "# def open_dataset(file_name = 'AppleStore.csv'):\n",
    "    \n",
    "#     #file_name = 'AppleStore.csv'\n",
    "#     opened_file = open(file_name)\n",
    "#     read_file = reader(opened_file)\n",
    "#     data = list(read_file)\n",
    "    \n",
    "#     return data\n"
   ]
  },
  {
   "cell_type": "code",
   "execution_count": 7,
   "metadata": {},
   "outputs": [
    {
     "name": "stdout",
     "output_type": "stream",
     "text": [
      "{'Games': 3862, 'Productivity': 178, 'Weather': 72, 'Shopping': 122, 'Reference': 64, 'Finance': 104, 'Music': 138, 'Utilities': 248, 'Travel': 81, 'Social Networking': 167, 'Sports': 114, 'Business': 57, 'Health & Fitness': 180, 'Entertainment': 535, 'Photo & Video': 349, 'Navigation': 46, 'Education': 453, 'Lifestyle': 144, 'Food & Drink': 63, 'News': 75, 'Book': 112, 'Medical': 23, 'Catalogs': 10}\n"
     ]
    }
   ],
   "source": [
    "def extract(index):\n",
    "    column = []    \n",
    "    for row in apps_data[1:]:\n",
    "        value = row[index]\n",
    "        column.append(value)    \n",
    "    return column\n",
    "\n",
    "genres = extract(11)\n",
    "\n",
    "def freq_table(list1):\n",
    "    newdictionary = {} \n",
    "    for t in list1:\n",
    "        if t in newdictionary:\n",
    "            newdictionary[t] += 1\n",
    "        else:\n",
    "            newdictionary[t] = 1\n",
    "    return newdictionary\n",
    "\n",
    "genres_ft = freq_table(genres)\n",
    "print(genres_ft)\n",
    "\n"
   ]
  },
  {
   "cell_type": "markdown",
   "metadata": {},
   "source": [
    "    Shift + Enter: run cell, select below\n",
    "    Ctrl + Enter: run selected cell\n",
    "    Alt + Enter: run cell, insert below"
   ]
  },
  {
   "cell_type": "code",
   "execution_count": null,
   "metadata": {},
   "outputs": [],
   "source": []
  }
 ],
 "metadata": {
  "kernelspec": {
   "display_name": "Python 3",
   "language": "python",
   "name": "python3"
  },
  "language_info": {
   "codemirror_mode": {
    "name": "ipython",
    "version": 3
   },
   "file_extension": ".py",
   "mimetype": "text/x-python",
   "name": "python",
   "nbconvert_exporter": "python",
   "pygments_lexer": "ipython3",
   "version": "3.7.6"
  }
 },
 "nbformat": 4,
 "nbformat_minor": 4
}
