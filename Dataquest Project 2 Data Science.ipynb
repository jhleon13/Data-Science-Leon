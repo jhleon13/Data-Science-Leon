{
 "cells": [
  {
   "cell_type": "markdown",
   "metadata": {},
   "source": [
    "# Exploring Hacker News"
   ]
  },
  {
   "cell_type": "code",
   "execution_count": 1,
   "metadata": {},
   "outputs": [
    {
     "name": "stdout",
     "output_type": "stream",
     "text": [
      "[['id', 'title', 'url', 'num_points', 'num_comments', 'author', 'created_at'], ['12579008', 'You have two days to comment if you want stem cells to be classified as your own', 'http://www.regulations.gov/document?D=FDA-2015-D-3719-0018', '1', '0', 'altstar', '9/26/2016 3:26'], ['12579005', 'SQLAR  the SQLite Archiver', 'https://www.sqlite.org/sqlar/doc/trunk/README.md', '1', '0', 'blacksqr', '9/26/2016 3:24'], ['12578997', 'What if we just printed a flatscreen television on the side of our boxes?', 'https://medium.com/vanmoof/our-secrets-out-f21c1f03fdc8#.ietxmez43', '1', '0', 'pavel_lishin', '9/26/2016 3:19'], ['12578989', 'algorithmic music', 'http://cacm.acm.org/magazines/2011/7/109891-algorithmic-composition/fulltext', '1', '0', 'poindontcare', '9/26/2016 3:16']]\n",
      "293120\n",
      "80401\n"
     ]
    }
   ],
   "source": [
    "import csv\n",
    "open_file = open('HN_posts_year_to_Sep_26_2016.csv')\n",
    "read_file = csv.reader(open_file)\n",
    "hn = list(read_file)\n",
    "print(hn[0:5])\n",
    "print(len(hn))\n",
    "hn2 = []\n",
    "for row in hn[1:]:\n",
    "    comments = int(row[4])\n",
    "    if comments != 0:\n",
    "        hn2.append(row)\n",
    "print(len(hn2))"
   ]
  },
  {
   "cell_type": "code",
   "execution_count": 2,
   "metadata": {},
   "outputs": [
    {
     "name": "stdout",
     "output_type": "stream",
     "text": [
      "[['id', 'title', 'url', 'num_points', 'num_comments', 'author', 'created_at'], ['12578975', 'Saving the Hassle of Shopping', 'https://blog.menswr.com/2016/09/07/whats-new-with-your-style-feed/', '1', '1', 'bdoux', '9/26/2016 3:13'], ['12578908', 'Ask HN: What TLD do you use for local development?', '', '4', '7', 'Sevrene', '9/26/2016 2:53'], ['12578822', 'Amazons Algorithms Dont Find You the Best Deals', 'https://www.technologyreview.com/s/602442/amazons-algorithms-dont-find-you-the-best-deals/', '1', '1', 'yarapavan', '9/26/2016 2:26'], ['12578694', 'Emergency dose of epinephrine that does not cost an arm and a leg', 'http://m.imgur.com/gallery/th6Ua', '2', '1', 'dredmorbius', '9/26/2016 1:54']]\n",
      "80402\n"
     ]
    }
   ],
   "source": [
    "headers = hn[0]\n",
    "hn2.insert(0, headers)\n",
    "print(hn2[:5])\n",
    "print(len(hn2))"
   ]
  },
  {
   "cell_type": "code",
   "execution_count": 3,
   "metadata": {},
   "outputs": [
    {
     "name": "stdout",
     "output_type": "stream",
     "text": [
      "['id', 'title', 'url', 'num_points', 'num_comments', 'author', 'created_at']\n"
     ]
    }
   ],
   "source": [
    "print(headers)"
   ]
  },
  {
   "cell_type": "code",
   "execution_count": 4,
   "metadata": {},
   "outputs": [
    {
     "name": "stdout",
     "output_type": "stream",
     "text": [
      "6911\n",
      "5059\n",
      "68432\n"
     ]
    }
   ],
   "source": [
    "ask_posts = []\n",
    "show_posts = []\n",
    "other_posts = []\n",
    "for row in hn2:\n",
    "    title = row[1]\n",
    "    title = title.lower()\n",
    "    if title.startswith(\"ask hn\"):\n",
    "        ask_posts.append(row)\n",
    "    elif title.startswith(\"show hn\"):\n",
    "        show_posts.append(row)\n",
    "    else:\n",
    "        other_posts.append(row)\n",
    "print(len(ask_posts))\n",
    "print(len(show_posts))\n",
    "print(len(other_posts))"
   ]
  },
  {
   "cell_type": "code",
   "execution_count": 5,
   "metadata": {},
   "outputs": [
    {
     "name": "stdout",
     "output_type": "stream",
     "text": [
      "[['12578908', 'Ask HN: What TLD do you use for local development?', '', '4', '7', 'Sevrene', '9/26/2016 2:53'], ['12578522', 'Ask HN: How do you pass on your work when you die?', '', '6', '3', 'PascLeRasc', '9/26/2016 1:17'], ['12577870', 'Ask HN: Why join a fund when you can be an angel?', '', '1', '3', 'anthony_james', '9/25/2016 22:48'], ['12577647', 'Ask HN: Someone uses stock trading as passive income?', '', '5', '2', '00taffe', '9/25/2016 21:50'], ['12576946', 'Ask HN: How hard would it be to make a cheap, hackable phone?', '', '2', '1', 'hkt', '9/25/2016 19:30']]\n"
     ]
    }
   ],
   "source": [
    "print(ask_posts[:5])"
   ]
  },
  {
   "cell_type": "code",
   "execution_count": 6,
   "metadata": {},
   "outputs": [
    {
     "name": "stdout",
     "output_type": "stream",
     "text": [
      "[['12577142', 'Show HN: Jumble  Essays on the go #PaulInYourPocket', 'https://itunes.apple.com/us/app/jumble-find-startup-essay/id1150939197?ls=1&mt=8', '1', '1', 'ryderj', '9/25/2016 20:06'], ['12576813', 'Show HN: Learn Japanese Vocab via multiple choice questions', 'http://japanese.vul.io/', '1', '1', 'soulchild37', '9/25/2016 19:06'], ['12576090', 'Show HN: Markov chain Twitter bot. Trained on comments left on Pornhub', 'https://twitter.com/botsonasty', '3', '1', 'keepingscore', '9/25/2016 16:50'], ['12575471', 'Show HN: Project-Okot: Novel, CODE-FREE data-apps in mere seconds', 'https://studio.nuchwezi.com/', '3', '1', 'nfixx', '9/25/2016 14:30'], ['12574773', 'Show HN: Cursor that Screenshot', 'http://edward.codes/cursor-that-screenshot', '3', '3', 'ed-bit', '9/25/2016 10:50']]\n"
     ]
    }
   ],
   "source": [
    "print(show_posts[:5])"
   ]
  },
  {
   "cell_type": "code",
   "execution_count": 7,
   "metadata": {},
   "outputs": [
    {
     "name": "stdout",
     "output_type": "stream",
     "text": [
      "avg_ask_comments is 13.744175951381855\n",
      "avg_show_comments is  18.775647361138564\n"
     ]
    }
   ],
   "source": [
    "total_ask_comments = 0\n",
    "for row in ask_posts:\n",
    "    num_comments = int(row[4])\n",
    "    total_ask_comments += num_comments\n",
    "avg_ask_comments = total_ask_comments/(len(ask_posts))\n",
    "print(\"avg_ask_comments is\", avg_ask_comments)\n",
    "total_show_comments = 0\n",
    "for row in show_posts:\n",
    "    num_comments2 = int(row[4])\n",
    "    total_show_comments += num_comments2\n",
    "avg_show_comments = total_ask_comments/(len(show_posts))\n",
    "print(\"avg_show_comments is \", avg_show_comments)"
   ]
  },
  {
   "cell_type": "markdown",
   "metadata": {},
   "source": [
    "The show posts on average get about 5 more comments than the ask comments."
   ]
  },
  {
   "cell_type": "code",
   "execution_count": 23,
   "metadata": {},
   "outputs": [
    {
     "name": "stdout",
     "output_type": "stream",
     "text": [
      "{'20': 2183, '19': 2791, '16': 3769, '14': 3839, '10': 1228, '09': 1411, '06': 904, '03': 934, '18': 3242, '17': 3236, '15': 3824, '11': 2413, '13': 3314, '01': 1006, '22': 1450, '12': 3609, '08': 1771, '04': 978, '00': 1283, '21': 1759, '05': 592, '23': 1444, '07': 1577, '02': 1076}\n"
     ]
    }
   ],
   "source": [
    "import datetime as dt\n",
    "result_list = []\n",
    "date_format = \"%m/%d/%Y %H:%M\" \n",
    "counts_by_hour = {}\n",
    "comments_by_hour = {}\n",
    "\n",
    "for row in show_posts:\n",
    "    created_at_str = row[6]\n",
    "    created_at_dt = dt.datetime.strptime(created_at_str, date_format).strftime(\"%H\")\n",
    "    num_comments = int(row[4])\n",
    "    row2 = [created_at_dt, num_comments]\n",
    "    result_list.append(row2)\n",
    "#print(result_list[0:7])\n",
    "for row in result_list:\n",
    "    if row[0] not in counts_by_hour:\n",
    "        counts_by_hour[row[0]] = 1\n",
    "        comments_by_hour[row[0]]= row[1]\n",
    "    else:\n",
    "        counts_by_hour[row[0]] += 1\n",
    "        comments_by_hour[row[0]] += row[1]\n",
    "        \n",
    "print((comments_by_hour))"
   ]
  },
  {
   "cell_type": "code",
   "execution_count": 24,
   "metadata": {},
   "outputs": [
    {
     "data": {
      "text/plain": [
       "[['20', 8.873983739837398],\n",
       " ['19', 10.337037037037037],\n",
       " ['16', 9.688946015424165],\n",
       " ['14', 11.598187311178247],\n",
       " ['10', 7.871794871794871],\n",
       " ['09', 8.930379746835444],\n",
       " ['06', 9.51578947368421],\n",
       " ['03', 9.628865979381443],\n",
       " ['18', 10.42443729903537],\n",
       " ['17', 8.745945945945946],\n",
       " ['15', 9.755102040816327],\n",
       " ['11', 10.583333333333334],\n",
       " ['13', 9.922155688622755],\n",
       " ['01', 7.451851851851852],\n",
       " ['22', 7.552083333333333],\n",
       " ['12', 12.03],\n",
       " ['08', 11.06875],\n",
       " ['04', 10.866666666666667],\n",
       " ['00', 9.099290780141844],\n",
       " ['21', 8.416267942583731],\n",
       " ['05', 7.7894736842105265],\n",
       " ['23', 9.756756756756756],\n",
       " ['07', 12.417322834645669],\n",
       " ['02', 10.346153846153847]]"
      ]
     },
     "execution_count": 24,
     "metadata": {},
     "output_type": "execute_result"
    }
   ],
   "source": [
    "avg_by_hour = []\n",
    "for row in comments_by_hour:\n",
    "    avg_by_hour.append([row, (comments_by_hour[row]/counts_by_hour[row])])\n",
    "avg_by_hour"
   ]
  },
  {
   "cell_type": "code",
   "execution_count": 34,
   "metadata": {},
   "outputs": [
    {
     "name": "stdout",
     "output_type": "stream",
     "text": [
      "[[8.873983739837398, '20'], [10.337037037037037, '19'], [9.688946015424165, '16'], [11.598187311178247, '14'], [7.871794871794871, '10'], [8.930379746835444, '09'], [9.51578947368421, '06'], [9.628865979381443, '03'], [10.42443729903537, '18'], [8.745945945945946, '17'], [9.755102040816327, '15'], [10.583333333333334, '11'], [9.922155688622755, '13'], [7.451851851851852, '01'], [7.552083333333333, '22'], [12.03, '12'], [11.06875, '08'], [10.866666666666667, '04'], [9.099290780141844, '00'], [8.416267942583731, '21'], [7.7894736842105265, '05'], [9.756756756756756, '23'], [12.417322834645669, '07'], [10.346153846153847, '02']]\n",
      "\n",
      "[[12.417322834645669, '07'], [12.03, '12'], [11.598187311178247, '14'], [11.06875, '08'], [10.866666666666667, '04'], [10.583333333333334, '11'], [10.42443729903537, '18'], [10.346153846153847, '02'], [10.337037037037037, '19'], [9.922155688622755, '13'], [9.756756756756756, '23'], [9.755102040816327, '15'], [9.688946015424165, '16'], [9.628865979381443, '03'], [9.51578947368421, '06'], [9.099290780141844, '00'], [8.930379746835444, '09'], [8.873983739837398, '20'], [8.745945945945946, '17'], [8.416267942583731, '21'], [7.871794871794871, '10'], [7.7894736842105265, '05'], [7.552083333333333, '22'], [7.451851851851852, '01']]\n"
     ]
    }
   ],
   "source": [
    "swap_avg_by_hour = []\n",
    "for row in avg_by_hour:\n",
    "    swap_avg_by_hour.append([row[1],row[0]])\n",
    "print(swap_avg_by_hour)\n",
    "print('')\n",
    "sorted_swap = sorted(swap_avg_by_hour,reverse = True)\n",
    "print(sorted_swap)\n",
    "\n",
    "    "
   ]
  },
  {
   "cell_type": "code",
   "execution_count": 36,
   "metadata": {},
   "outputs": [
    {
     "name": "stdout",
     "output_type": "stream",
     "text": [
      "Top 5 Hours for Show Posts Comments\n",
      "07:00: 12.42 average comments per post\n",
      "12:00: 12.03 average comments per post\n",
      "14:00: 11.60 average comments per post\n",
      "08:00: 11.07 average comments per post\n",
      "04:00: 10.87 average comments per post\n"
     ]
    }
   ],
   "source": [
    "print(\"Top 5 Hours for Show Posts Comments\")\n",
    "for avg, hr in sorted_swap[:5]:\n",
    "    print(\n",
    "        \"{}: {:.2f} average comments per post\".format(\n",
    "            dt.datetime.strptime(hr, \"%H\").strftime(\"%H:%M\"),avg\n",
    "        )\n",
    "    )"
   ]
  },
  {
   "cell_type": "code",
   "execution_count": null,
   "metadata": {},
   "outputs": [],
   "source": []
  }
 ],
 "metadata": {
  "kernelspec": {
   "display_name": "Python 3",
   "language": "python",
   "name": "python3"
  },
  "language_info": {
   "codemirror_mode": {
    "name": "ipython",
    "version": 3
   },
   "file_extension": ".py",
   "mimetype": "text/x-python",
   "name": "python",
   "nbconvert_exporter": "python",
   "pygments_lexer": "ipython3",
   "version": "3.7.6"
  }
 },
 "nbformat": 4,
 "nbformat_minor": 4
}
