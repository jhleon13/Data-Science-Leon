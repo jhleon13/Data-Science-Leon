{
 "cells": [
  {
   "cell_type": "markdown",
   "metadata": {},
   "source": [
    "# Profitable App Profiles for the App Store and Google Play Markets \n",
    "### By Jorge Hernandez Leon\n",
    "\n",
    "This project is to find mobile app profiles that are profitable for the App Store and Google Play markets. Our job is to enable our team of developers to make data-driven decisions with respect to the kind of apps they build.\n",
    "\n",
    "At our company, we only build apps that are free to download and install, and our main source of revenue consists of in-app ads. This means that our revenue for any given app is mostly influenced by the number of users that use our app. Our goal for this project is to analyze data to help our developers understand what kinds of apps are likely to attract more users.\n"
   ]
  },
  {
   "cell_type": "code",
   "execution_count": 10,
   "metadata": {},
   "outputs": [],
   "source": [
    "def explore_data(dataset, start, end, rows_and_columns=False):\n",
    "    dataset_slice = dataset[start:end]    \n",
    "    for row in dataset_slice:\n",
    "        print(row)\n",
    "        print('\\n') # adds a new (empty) line after each row\n",
    "\n",
    "    if rows_and_columns:\n",
    "        print('Number of rows:', len(dataset))\n",
    "        print('Number of columns:', len(dataset[0]))"
   ]
  },
  {
   "cell_type": "code",
   "execution_count": 2,
   "metadata": {},
   "outputs": [],
   "source": [
    "from csv import reader\n",
    "def open_dataset(file_name):\n",
    "    \n",
    "    #file_name = 'AppleStore.csv'\n",
    "    opened_file = open(file_name)\n",
    "    read_file = reader(opened_file)\n",
    "    data = list(read_file)\n",
    "    \n",
    "    return data\n"
   ]
  },
  {
   "cell_type": "code",
   "execution_count": 3,
   "metadata": {},
   "outputs": [],
   "source": [
    "#my data has a header \n",
    "Appleplay = open_dataset('AppleStore2.csv')\n",
    "googleplay = open_dataset('googleplaystore.csv')"
   ]
  },
  {
   "cell_type": "code",
   "execution_count": 4,
   "metadata": {},
   "outputs": [
    {
     "name": "stdout",
     "output_type": "stream",
     "text": [
      "['App', 'Category', 'Rating', 'Reviews', 'Size', 'Installs', 'Type', 'Price', 'Content Rating', 'Genres', 'Last Updated', 'Current Ver', 'Android Ver']\n",
      "\n",
      "\n",
      "['Photo Editor & Candy Camera & Grid & ScrapBook', 'ART_AND_DESIGN', '4.1', '159', '19M', '10,000+', 'Free', '0', 'Everyone', 'Art & Design', 'January 7, 2018', '1.0.0', '4.0.3 and up']\n",
      "\n",
      "\n",
      "['Coloring book moana', 'ART_AND_DESIGN', '3.9', '967', '14M', '500,000+', 'Free', '0', 'Everyone', 'Art & Design;Pretend Play', 'January 15, 2018', '2.0.0', '4.0.3 and up']\n",
      "\n",
      "\n",
      "Number of rows: 10842\n",
      "Number of columns: 13\n",
      "['id', 'track_name', 'size_bytes', 'currency', 'price', 'rating_count_tot', 'rating_count_ver', 'user_rating', 'user_rating_ver', 'ver', 'cont_rating', 'prime_genre', 'sup_devices.num', 'ipadSc_urls.num', 'lang.num', 'vpp_lic']\n",
      "\n",
      "\n",
      "['281656475', 'PAC-MAN Premium', '100788224', 'USD', '3.99', '21292', '26', '4', '4.5', '6.3.5', '4+', 'Games', '38', '5', '10', '1']\n",
      "\n",
      "\n",
      "['281796108', 'Evernote - stay organized', '158578688', 'USD', '0', '161065', '26', '4', '3.5', '8.2.2', '4+', 'Productivity', '37', '5', '23', '1']\n",
      "\n",
      "\n",
      "Number of rows: 7198\n",
      "Number of columns: 16\n"
     ]
    }
   ],
   "source": [
    "explore_data(googleplay, 0, 3, True)\n",
    "for n in Appleplay:\n",
    "    del n[0]\n",
    "explore_data(Appleplay, 0, 3, True)"
   ]
  },
  {
   "cell_type": "code",
   "execution_count": 5,
   "metadata": {},
   "outputs": [
    {
     "name": "stdout",
     "output_type": "stream",
     "text": [
      "['Life Made WI-Fi Touchscreen Photo Frame', '1.9', '19', '3.0M', '1,000+', 'Free', '0', 'Everyone', '', 'February 11, 2018', '1.0.19', '4.0 and up']\n",
      "12\n"
     ]
    }
   ],
   "source": [
    "print(googleplay[10473])\n",
    "print(len(googleplay[10473]))"
   ]
  },
  {
   "cell_type": "code",
   "execution_count": 6,
   "metadata": {},
   "outputs": [],
   "source": [
    "# deleting data function that isnt complete\n",
    "del googleplay[10473]"
   ]
  },
  {
   "cell_type": "code",
   "execution_count": 44,
   "metadata": {},
   "outputs": [],
   "source": [
    "#googleplay has a few repeating apps\n",
    "def duplicate_apps(list1, row_name): \n",
    "    duplicate_apps = []\n",
    "    unique_apps = []\n",
    "    for app in list1:\n",
    "        name = app[row_name]\n",
    "        if name in unique_apps:\n",
    "            duplicate_apps.append(name)\n",
    "            \n",
    "        else:\n",
    "            unique_apps.append(name)\n",
    "    return print('Examples of duplicate apps:',len(duplicate_apps)),print('Unique Apps:', len(unique_apps))\n"
   ]
  },
  {
   "cell_type": "code",
   "execution_count": 45,
   "metadata": {},
   "outputs": [
    {
     "name": "stdout",
     "output_type": "stream",
     "text": [
      "Examples of duplicate apps: 1181\n",
      "Unique Apps: 9660\n"
     ]
    },
    {
     "data": {
      "text/plain": [
       "(None, None)"
      ]
     },
     "execution_count": 45,
     "metadata": {},
     "output_type": "execute_result"
    }
   ],
   "source": [
    "duplicate_apps(googleplay, 0)\n",
    "\n"
   ]
  },
  {
   "cell_type": "code",
   "execution_count": 46,
   "metadata": {},
   "outputs": [
    {
     "name": "stdout",
     "output_type": "stream",
     "text": [
      "Examples of duplicate apps: 2\n",
      "Unique Apps: 7196\n"
     ]
    },
    {
     "data": {
      "text/plain": [
       "(None, None)"
      ]
     },
     "execution_count": 46,
     "metadata": {},
     "output_type": "execute_result"
    }
   ],
   "source": [
    "duplicate_apps(Appleplay, 1)\n"
   ]
  },
  {
   "cell_type": "code",
   "execution_count": 47,
   "metadata": {},
   "outputs": [
    {
     "name": "stdout",
     "output_type": "stream",
     "text": [
      "['952877179', 'VR Roller Coaster', '169523200', 'USD', '0', '107', '102', '3.5', '3.5', '2.0.0', '4+', 'Games', '37', '5', '1', '1']\n",
      "['1089824278', 'VR Roller Coaster', '240964608', 'USD', '0', '67', '44', '3.5', '4', '0.81', '4+', 'Games', '38', '0', '1', '1']\n"
     ]
    }
   ],
   "source": [
    "for app in Appleplay:\n",
    "    name = app[1] # 1 because apple has an Id number\n",
    "    if name == 'VR Roller Coaster':\n",
    "        print(app)"
   ]
  },
  {
   "cell_type": "code",
   "execution_count": 18,
   "metadata": {},
   "outputs": [
    {
     "name": "stdout",
     "output_type": "stream",
     "text": [
      "['Box', 'BUSINESS', '4.2', '159872', 'Varies with device', '10,000,000+', 'Free', '0', 'Everyone', 'Business', 'July 31, 2018', 'Varies with device', 'Varies with device']\n",
      "['Box', 'BUSINESS', '4.2', '159872', 'Varies with device', '10,000,000+', 'Free', '0', 'Everyone', 'Business', 'July 31, 2018', 'Varies with device', 'Varies with device']\n",
      "['Box', 'BUSINESS', '4.2', '159872', 'Varies with device', '10,000,000+', 'Free', '0', 'Everyone', 'Business', 'July 31, 2018', 'Varies with device', 'Varies with device']\n"
     ]
    }
   ],
   "source": [
    "for app in googleplay:\n",
    "    name = app[0]\n",
    "    if name == 'Box':\n",
    "        print(app)"
   ]
  },
  {
   "cell_type": "code",
   "execution_count": 19,
   "metadata": {},
   "outputs": [
    {
     "name": "stdout",
     "output_type": "stream",
     "text": [
      "Expected length: 9659\n",
      "Actual length: 9659\n"
     ]
    }
   ],
   "source": [
    "print('Expected length:', len(googleplay) - 1181-1)\n",
    "# We won't remove rows randomly, but rather we'll keep the rows that have the highest number of reviews because the higher the number of reviews, the more reliable the ratings.\n",
    "# To do that, we will:\n",
    "# Create a dictionary where each key is a unique app name, and the value is the highest number of reviews of that app\n",
    "# Use the dictionary to create a new data set, which will have only one entry per app (and we only select the apps with the highest number of reviews)\n",
    "reviews_max = {}\n",
    "for app in googleplay[1:]:\n",
    "    name = app[0]\n",
    "    n_reviews = float(app[3])\n",
    "    \n",
    "    if name in reviews_max and reviews_max[name] < n_reviews:\n",
    "        reviews_max[name] = n_reviews\n",
    "    elif name not in reviews_max:\n",
    "        reviews_max[name] = n_reviews\n",
    "print('Actual length:', len(reviews_max))\n"
   ]
  },
  {
   "cell_type": "code",
   "execution_count": 20,
   "metadata": {},
   "outputs": [
    {
     "name": "stdout",
     "output_type": "stream",
     "text": [
      "Actual length: 7197\n"
     ]
    }
   ],
   "source": [
    "reviews_max2 = {}\n",
    "for app in Appleplay[1:]:\n",
    "    name = app[0]\n",
    "    n_reviews = float(app[5])\n",
    "    \n",
    "    if name in reviews_max2 and reviews_max2[name] < n_reviews:\n",
    "        reviews_max2[name] = n_reviews\n",
    "    elif name not in reviews_max2:\n",
    "        reviews_max2[name] = n_reviews\n",
    "print('Actual length:', len(reviews_max2))"
   ]
  },
  {
   "cell_type": "markdown",
   "metadata": {},
   "source": [
    "### Using th above dictionary I will remove duplicates\n",
    "#### Create a new list and add to already added if number of reviews is lower"
   ]
  },
  {
   "cell_type": "code",
   "execution_count": 23,
   "metadata": {},
   "outputs": [
    {
     "name": "stdout",
     "output_type": "stream",
     "text": [
      "Length of googleplay without repeats 9659\n",
      "Length of Appleplay without repeats 7197\n"
     ]
    }
   ],
   "source": [
    "googleplay_clean = []\n",
    "already_added = []\n",
    "for row in googleplay[1:]: # due to I have a header\n",
    "    name = row[0]\n",
    "    n_reviews = float(row[3])\n",
    "    \n",
    "    if (reviews_max[name] == n_reviews) and (name not in already_added):\n",
    "            googleplay_clean.append(row)\n",
    "            already_added.append(name)\n",
    "print('Length of googleplay without repeats',len(googleplay_clean))\n",
    "Appleplay_clean = []\n",
    "already_added2 = []\n",
    "for row in Appleplay[1:]: # due to I have a header\n",
    "    name = row[0]\n",
    "    n_reviews = float(row[5])\n",
    "    \n",
    "    if (reviews_max2[name] == n_reviews) and (name not in already_added2):\n",
    "            Appleplay_clean.append(row)\n",
    "            already_added2.append(name)\n",
    "print('Length of Appleplay without repeats',len(Appleplay_clean))\n"
   ]
  },
  {
   "cell_type": "code",
   "execution_count": 24,
   "metadata": {},
   "outputs": [
    {
     "name": "stdout",
     "output_type": "stream",
     "text": [
      "['Photo Editor & Candy Camera & Grid & ScrapBook', 'ART_AND_DESIGN', '4.1', '159', '19M', '10,000+', 'Free', '0', 'Everyone', 'Art & Design', 'January 7, 2018', '1.0.0', '4.0.3 and up']\n",
      "\n",
      "\n",
      "['U Launcher Lite – FREE Live Cool Themes, Hide Apps', 'ART_AND_DESIGN', '4.7', '87510', '8.7M', '5,000,000+', 'Free', '0', 'Everyone', 'Art & Design', 'August 1, 2018', '1.2.4', '4.0.3 and up']\n",
      "\n",
      "\n",
      "['Sketch - Draw & Paint', 'ART_AND_DESIGN', '4.5', '215644', '25M', '50,000,000+', 'Free', '0', 'Teen', 'Art & Design', 'June 8, 2018', 'Varies with device', '4.2 and up']\n",
      "\n",
      "\n",
      "Number of rows: 9659\n",
      "Number of columns: 13\n"
     ]
    }
   ],
   "source": [
    "explore_data(googleplay_clean, 0, 3, True)"
   ]
  },
  {
   "cell_type": "markdown",
   "metadata": {},
   "source": [
    "# Remove Non-English apps"
   ]
  },
  {
   "cell_type": "code",
   "execution_count": 25,
   "metadata": {},
   "outputs": [
    {
     "name": "stdout",
     "output_type": "stream",
     "text": [
      "True\n",
      "False\n",
      "False\n",
      "False\n"
     ]
    }
   ],
   "source": [
    "def english_app(string):   \n",
    "    \n",
    "    for character in string:\n",
    "        if ord(character) > 127:\n",
    "           return False \n",
    "        \n",
    "    return True\n",
    "print(english_app('Instagram'))\n",
    "print(english_app('爱奇艺PPS -《欢乐颂2》电视剧热播'))\n",
    "print(english_app('Docs To Go™ Free Office Suite'))\n",
    "print(english_app('Instachat 😜'))"
   ]
  },
  {
   "cell_type": "markdown",
   "metadata": {},
   "source": [
    "### How to remove If the input string has more than three characters that fall outside the ASCII range (0 - 127)"
   ]
  },
  {
   "cell_type": "code",
   "execution_count": 26,
   "metadata": {},
   "outputs": [
    {
     "name": "stdout",
     "output_type": "stream",
     "text": [
      "True\n",
      "False\n",
      "True\n",
      "True\n"
     ]
    }
   ],
   "source": [
    "def english_app2(string):   \n",
    "    non_eng = 0\n",
    "    \n",
    "    for character in string:\n",
    "        if ord(character) > 127:\n",
    "           non_eng += 1\n",
    "    if non_eng > 3:\n",
    "        return False\n",
    "    else:    \n",
    "        return True\n",
    "print(english_app2('Instagram'))\n",
    "print(english_app2('爱奇艺PPS -《欢乐颂2》电视剧热播'))\n",
    "print(english_app2('Docs To Go™ Free Office Suite'))\n",
    "print(english_app2('Instachat 😜'))"
   ]
  },
  {
   "cell_type": "code",
   "execution_count": 53,
   "metadata": {},
   "outputs": [
    {
     "name": "stdout",
     "output_type": "stream",
     "text": [
      "9614\n"
     ]
    }
   ],
   "source": [
    "googleplay_cleaner = []\n",
    "for row in googleplay_clean:\n",
    "    name = row[0]\n",
    "    if english_app2(name):\n",
    "        googleplay_cleaner.append(row)\n",
    "print(len(googleplay_cleaner))        "
   ]
  },
  {
   "cell_type": "code",
   "execution_count": 55,
   "metadata": {},
   "outputs": [
    {
     "name": "stdout",
     "output_type": "stream",
     "text": [
      "6183\n",
      "['281656475', 'PAC-MAN Premium', '100788224', 'USD', '3.99', '21292', '26', '4', '4.5', '6.3.5', '4+', 'Games', '38', '5', '10', '1']\n"
     ]
    }
   ],
   "source": [
    "Appleplay_cleaner = []\n",
    "for row in Appleplay_clean:\n",
    "    name = row[1]\n",
    "    if english_app2(name):\n",
    "        Appleplay_cleaner.append(row)\n",
    "print(len(Appleplay_cleaner)) \n",
    "print(Appleplay_cleaner[0])"
   ]
  },
  {
   "cell_type": "markdown",
   "metadata": {},
   "source": [
    "# Free Apps"
   ]
  },
  {
   "cell_type": "code",
   "execution_count": 62,
   "metadata": {},
   "outputs": [
    {
     "name": "stdout",
     "output_type": "stream",
     "text": [
      "0.id\n",
      "\n",
      "1.track_name\n",
      "\n",
      "2.size_bytes\n",
      "\n",
      "3.currency\n",
      "\n",
      "4.price\n",
      "\n",
      "5.rating_count_tot\n",
      "\n",
      "6.rating_count_ver\n",
      "\n",
      "7.user_rating\n",
      "\n",
      "8.user_rating_ver\n",
      "\n",
      "9.ver\n",
      "\n",
      "10.cont_rating\n",
      "\n",
      "11.prime_genre\n",
      "\n",
      "12.sup_devices.num\n",
      "\n",
      "13.ipadSc_urls.num\n",
      "\n",
      "14.lang.num\n",
      "\n",
      "15.vpp_lic\n",
      "\n"
     ]
    }
   ],
   "source": [
    "header = Appleplay[0]\n",
    "for i, item in enumerate(header, 0):\n",
    "    print(i, '.'+ item, sep='', end='')\n",
    "    print('\\n')"
   ]
  },
  {
   "cell_type": "code",
   "execution_count": 64,
   "metadata": {},
   "outputs": [
    {
     "name": "stdout",
     "output_type": "stream",
     "text": [
      "0.App\n",
      "\n",
      "1.Category\n",
      "\n",
      "2.Rating\n",
      "\n",
      "3.Reviews\n",
      "\n",
      "4.Size\n",
      "\n",
      "5.Installs\n",
      "\n",
      "6.Type\n",
      "\n",
      "7.Price\n",
      "\n",
      "8.Content Rating\n",
      "\n",
      "9.Genres\n",
      "\n",
      "10.Last Updated\n",
      "\n",
      "11.Current Ver\n",
      "\n",
      "12.Android Ver\n",
      "\n"
     ]
    }
   ],
   "source": [
    "header2 = googleplay[0]\n",
    "for i, item in enumerate(header2, 0):\n",
    "    print(i, '.'+ item, sep='', end='')\n",
    "    print('\\n')"
   ]
  },
  {
   "cell_type": "code",
   "execution_count": 66,
   "metadata": {},
   "outputs": [
    {
     "name": "stdout",
     "output_type": "stream",
     "text": [
      "3222\n"
     ]
    }
   ],
   "source": [
    "free_apps = []\n",
    "for apps in Appleplay_cleaner:\n",
    "    price_app = (apps[4])\n",
    "    if price_app == 0:\n",
    "        free_apps.append(apps)\n",
    "print(len(free_apps))"
   ]
  },
  {
   "cell_type": "code",
   "execution_count": 97,
   "metadata": {},
   "outputs": [
    {
     "name": "stdout",
     "output_type": "stream",
     "text": [
      "8864\n"
     ]
    }
   ],
   "source": [
    "free_apps = []\n",
    "for apps in googleplay_cleaner:\n",
    "    price_app = (apps[7])\n",
    "    if price_app == '0':\n",
    "        free_apps.append(apps)\n",
    "print(len(free_apps))\n",
    "# when ran the first time a price was $4.99 so ran the next set oc code"
   ]
  },
  {
   "cell_type": "code",
   "execution_count": null,
   "metadata": {},
   "outputs": [],
   "source": [
    "def freq_table(dataset, index):\n",
    "    freq_table1 = {}\n",
    "    "
   ]
  },
  {
   "cell_type": "code",
   "execution_count": null,
   "metadata": {},
   "outputs": [],
   "source": []
  },
  {
   "cell_type": "code",
   "execution_count": null,
   "metadata": {},
   "outputs": [],
   "source": []
  }
 ],
 "metadata": {
  "kernelspec": {
   "display_name": "Python 3",
   "language": "python",
   "name": "python3"
  },
  "language_info": {
   "codemirror_mode": {
    "name": "ipython",
    "version": 3
   },
   "file_extension": ".py",
   "mimetype": "text/x-python",
   "name": "python",
   "nbconvert_exporter": "python",
   "pygments_lexer": "ipython3",
   "version": "3.7.6"
  }
 },
 "nbformat": 4,
 "nbformat_minor": 2
}
