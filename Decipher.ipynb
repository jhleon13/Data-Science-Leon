{
 "cells": [
  {
   "cell_type": "code",
   "execution_count": 1,
   "metadata": {},
   "outputs": [
    {
     "name": "stdout",
     "output_type": "stream",
     "text": [
      "Requirement already satisfied: cryptography in /Users/jhleon/opt/anaconda3/lib/python3.7/site-packages (2.8)\n",
      "Requirement already satisfied: cffi!=1.11.3,>=1.8 in /Users/jhleon/opt/anaconda3/lib/python3.7/site-packages (from cryptography) (1.14.0)\n",
      "Requirement already satisfied: six>=1.4.1 in /Users/jhleon/opt/anaconda3/lib/python3.7/site-packages (from cryptography) (1.14.0)\n",
      "Requirement already satisfied: pycparser in /Users/jhleon/opt/anaconda3/lib/python3.7/site-packages (from cffi!=1.11.3,>=1.8->cryptography) (2.19)\n",
      "Note: you may need to restart the kernel to use updated packages.\n"
     ]
    }
   ],
   "source": [
    "pip install cryptography\n"
   ]
  },
  {
   "cell_type": "code",
   "execution_count": 13,
   "metadata": {},
   "outputs": [
    {
     "name": "stdout",
     "output_type": "stream",
     "text": [
      "Enter word to be encrypted: LVFPPNMQDOORAYJVKHPGPBTPKHNZFOAY\n",
      "Enter Key: 3\n",
      "oyissqptgrrudbmynksjsewsnkqcirdb\n"
     ]
    }
   ],
   "source": [
    "Encrypt = input(\"Enter word to be encrypted: \")\n",
    "key = int(input(\"Enter Key: \"))\n",
    "\n",
    "decrypt = ''\n",
    "\n",
    "for i in Encrypt:\n",
    "    lower_char = i.lower()\n",
    "    extract_value = ord(lower_char)-97\n",
    "    decrypt_value = ((extract_value+key) % 26)+97\n",
    "    decrypt += chr(decrypt_value)\n",
    "    \n",
    "print(decrypt)"
   ]
  },
  {
   "cell_type": "code",
   "execution_count": 19,
   "metadata": {},
   "outputs": [
    {
     "name": "stdout",
     "output_type": "stream",
     "text": [
      "Decrypted Word is: encryption\n",
      "The Key is: 7\n"
     ]
    }
   ],
   "source": [
    "decrypt = \"lujyfwapvu\"\n",
    "words = [\"encryption\"]\n",
    "\n",
    "for i in range(26):\n",
    "    word = ''\n",
    "    for j in range(len(decrypt)):\n",
    "        extract = ord(decrypt[j])-97\n",
    "        decrypt_value = ((extract-i) % 26)+97\n",
    "        word += chr(decrypt_value)\n",
    "            \n",
    "    if word in words:\n",
    "        print(\"Decrypted Word is:\", word)\n",
    "        print(\"The Key is:\", i)\n",
    "        break"
   ]
  },
  {
   "cell_type": "code",
   "execution_count": 24,
   "metadata": {},
   "outputs": [],
   "source": [
    "words = [\"ava\", \"lovelace\", \"LVFPPNMQDOORAYJVKHPGPBTPKHNZFOAY\"]\n",
    "for i in range(26):\n",
    "    word = ''\n",
    "    for j in range(len(decrypt)):\n",
    "        extract = ord(decrypt[j])-97\n",
    "        decrypt_value = ((extract-i) % 26)+97\n",
    "        word += chr(decrypt_value)\n",
    "            \n",
    "    if word in words:\n",
    "        print(\"Decrypted Word is:\", word)\n",
    "        print(\"The Key is:\", i)\n",
    "        break"
   ]
  },
  {
   "cell_type": "code",
   "execution_count": 36,
   "metadata": {},
   "outputs": [],
   "source": [
    "\n",
    "def xor_crypt_string(data, key = 'awesomepassword', encode = False, decode = False):\n",
    "   from itertools import cycle,izip\n",
    "   import base64\n",
    "   \n",
    "   if decode:\n",
    "      data = base64.decodestring(data)\n",
    "   xored = ''.join(chr(ord(x) ^ ord(y)) for (x,y) in izip(data, cycle(key)))\n",
    "   \n",
    "   if encode:\n",
    "      return base64.encodestring(xored).strip()\n",
    "   return xored\n",
    "secret_data = \"XOR procedure\"\n",
    "\n",
    "#print(\"The cipher text is\")\n",
    "#print(xor_crypt_string(secret_data, encode = True))\n",
    "#print(\"The plain text fetched\")\n",
    "#print xor_crypt_string(xor_crypt_string(secret_data, encode = True), decode = True)"
   ]
  },
  {
   "cell_type": "code",
   "execution_count": 37,
   "metadata": {},
   "outputs": [
    {
     "ename": "ImportError",
     "evalue": "cannot import name 'izip' from 'itertools' (unknown location)",
     "output_type": "error",
     "traceback": [
      "\u001b[0;31m---------------------------------------------------------------------------\u001b[0m",
      "\u001b[0;31mImportError\u001b[0m                               Traceback (most recent call last)",
      "\u001b[0;32m<ipython-input-37-966190c225a4>\u001b[0m in \u001b[0;36m<module>\u001b[0;34m\u001b[0m\n\u001b[0;32m----> 1\u001b[0;31m \u001b[0mxor_crypt_string\u001b[0m\u001b[0;34m(\u001b[0m\u001b[0;34m\"LVFPPNMQDOORAYJVKHPGPBTPKHNZFOAY\"\u001b[0m\u001b[0;34m,\u001b[0m \u001b[0mkey\u001b[0m \u001b[0;34m=\u001b[0m \u001b[0;34m'avalovelace'\u001b[0m\u001b[0;34m)\u001b[0m\u001b[0;34m\u001b[0m\u001b[0;34m\u001b[0m\u001b[0m\n\u001b[0m",
      "\u001b[0;32m<ipython-input-36-e18a44ced167>\u001b[0m in \u001b[0;36mxor_crypt_string\u001b[0;34m(data, key, encode, decode)\u001b[0m\n\u001b[1;32m      1\u001b[0m \u001b[0;32mdef\u001b[0m \u001b[0mxor_crypt_string\u001b[0m\u001b[0;34m(\u001b[0m\u001b[0mdata\u001b[0m\u001b[0;34m,\u001b[0m \u001b[0mkey\u001b[0m \u001b[0;34m=\u001b[0m \u001b[0;34m'awesomepassword'\u001b[0m\u001b[0;34m,\u001b[0m \u001b[0mencode\u001b[0m \u001b[0;34m=\u001b[0m \u001b[0;32mFalse\u001b[0m\u001b[0;34m,\u001b[0m \u001b[0mdecode\u001b[0m \u001b[0;34m=\u001b[0m \u001b[0;32mFalse\u001b[0m\u001b[0;34m)\u001b[0m\u001b[0;34m:\u001b[0m\u001b[0;34m\u001b[0m\u001b[0;34m\u001b[0m\u001b[0m\n\u001b[0;32m----> 2\u001b[0;31m    \u001b[0;32mfrom\u001b[0m \u001b[0mitertools\u001b[0m \u001b[0;32mimport\u001b[0m \u001b[0mcycle\u001b[0m\u001b[0;34m,\u001b[0m\u001b[0mizip\u001b[0m\u001b[0;34m\u001b[0m\u001b[0;34m\u001b[0m\u001b[0m\n\u001b[0m\u001b[1;32m      3\u001b[0m    \u001b[0;32mimport\u001b[0m \u001b[0mbase64\u001b[0m\u001b[0;34m\u001b[0m\u001b[0;34m\u001b[0m\u001b[0m\n\u001b[1;32m      4\u001b[0m \u001b[0;34m\u001b[0m\u001b[0m\n\u001b[1;32m      5\u001b[0m    \u001b[0;32mif\u001b[0m \u001b[0mdecode\u001b[0m\u001b[0;34m:\u001b[0m\u001b[0;34m\u001b[0m\u001b[0;34m\u001b[0m\u001b[0m\n",
      "\u001b[0;31mImportError\u001b[0m: cannot import name 'izip' from 'itertools' (unknown location)"
     ]
    }
   ],
   "source": [
    "xor_crypt_string(\"LVFPPNMQDOORAYJVKHPGPBTPKHNZFOAY\", key = 'avalovelace')"
   ]
  },
  {
   "cell_type": "code",
   "execution_count": null,
   "metadata": {},
   "outputs": [],
   "source": []
  }
 ],
 "metadata": {
  "kernelspec": {
   "display_name": "Python 3",
   "language": "python",
   "name": "python3"
  },
  "language_info": {
   "codemirror_mode": {
    "name": "ipython",
    "version": 3
   },
   "file_extension": ".py",
   "mimetype": "text/x-python",
   "name": "python",
   "nbconvert_exporter": "python",
   "pygments_lexer": "ipython3",
   "version": "3.7.6"
  }
 },
 "nbformat": 4,
 "nbformat_minor": 4
}
