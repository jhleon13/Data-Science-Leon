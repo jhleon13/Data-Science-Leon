{
 "cells": [
  {
   "cell_type": "markdown",
   "metadata": {},
   "source": [
    "# Dynamic Programing"
   ]
  },
  {
   "cell_type": "code",
   "execution_count": 5,
   "metadata": {},
   "outputs": [
    {
     "name": "stdout",
     "output_type": "stream",
     "text": [
      "8\n",
      "13\n",
      "21\n",
      "12586269025\n",
      "0:00:00.000975\n"
     ]
    }
   ],
   "source": [
    "#Fibonacci Numbers my own\n",
    "import datetime \n",
    "start_time = datetime.datetime.now()\n",
    "# insert code snippet here\n",
    "def fib(n):\n",
    "    if n == 1 or n ==2:\n",
    "        answer = 1\n",
    "    else:\n",
    "        fiblist = [1,1]\n",
    "        for y in range(3,n+1):\n",
    "            if y != n+1:\n",
    "                new_entry = fiblist[-1]+fiblist[-2]\n",
    "                fiblist.append(new_entry)\n",
    "            answer = fiblist[-1]\n",
    "    return answer\n",
    "print(fib(6))\n",
    "print(fib(7))\n",
    "print(fib(8))\n",
    "print(fib(50))\n",
    "                \n",
    "end_time = datetime.datetime.now()\n",
    "print(end_time - start_time)"
   ]
  },
  {
   "cell_type": "code",
   "execution_count": 6,
   "metadata": {},
   "outputs": [
    {
     "name": "stdout",
     "output_type": "stream",
     "text": [
      "8\n",
      "13\n",
      "21\n",
      "12586269025\n",
      "0:00:00.001317\n"
     ]
    }
   ],
   "source": [
    "#Dynamic Programming internet\n",
    "import datetime \n",
    "start_time = datetime.datetime.now()\n",
    "# insert code snippet here\n",
    "def F(n):\n",
    "    memo = []\n",
    "    for i in range(n+1):\n",
    "        if i <2:\n",
    "            memo.append(i)\n",
    "        else:\n",
    "            memo.append(memo[i-1]+memo[i-2])\n",
    "    \n",
    "    return memo[-1]\n",
    "print(F(6))\n",
    "print(F(7))\n",
    "print(F(8))\n",
    "print(F(50))\n",
    "                \n",
    "end_time = datetime.datetime.now()\n",
    "print(end_time - start_time)"
   ]
  },
  {
   "cell_type": "code",
   "execution_count": 3,
   "metadata": {},
   "outputs": [
    {
     "name": "stdout",
     "output_type": "stream",
     "text": [
      "8\n",
      "13\n",
      "21\n",
      "0:00:00.000204\n"
     ]
    }
   ],
   "source": [
    "import datetime \n",
    "start_time = datetime.datetime.now()\n",
    "# insert code snippet here\n",
    "def fibs(n):\n",
    "    if n ==1 or n == 2:\n",
    "        return 1\n",
    "    \n",
    "    return fibs(n-1)+fibs(n-2)\n",
    "\n",
    "print(fibs(6))\n",
    "print(fibs(7))\n",
    "print(fibs(8))\n",
    "#print(fibs(50))\n",
    "                \n",
    "end_time = datetime.datetime.now()\n",
    "print(end_time - start_time)"
   ]
  },
  {
   "cell_type": "code",
   "execution_count": 9,
   "metadata": {},
   "outputs": [
    {
     "name": "stdout",
     "output_type": "stream",
     "text": [
      "1\n",
      "3\n",
      "6\n"
     ]
    }
   ],
   "source": [
    "def gridTravler(m,n):\n",
    "    memo = {}\n",
    "    key = str(str(m) + ',' + str(n))\n",
    "    if key in memo:\n",
    "        return memo[key]\n",
    "    if m == 1 and n == 1:\n",
    "        return 1\n",
    "    if m == 0 or n ==0:\n",
    "        return 0\n",
    "   \n",
    "    memo[key] = gridTravler(m-1, n) + gridTravler(m, n-1)\n",
    "    return memo[key]\n",
    "print(gridTravler(1,1))\n",
    "print(gridTravler(2,3))\n",
    "print(gridTravler(3,3))\n",
    "#print(gridTravler(18,18))"
   ]
  },
  {
   "cell_type": "code",
   "execution_count": 8,
   "metadata": {},
   "outputs": [
    {
     "name": "stdout",
     "output_type": "stream",
     "text": [
      "1\n",
      "3\n",
      "6\n"
     ]
    }
   ],
   "source": [
    "def gridTravler1(m,n):\n",
    "    if m == 1 and n == 1:\n",
    "        return 1\n",
    "    if m == 0 or n ==0:\n",
    "        return 0\n",
    "    \n",
    "    return gridTravler1(m-1, n) + gridTravler1(m, n-1)\n",
    "print(gridTravler1(1,1))\n",
    "print(gridTravler1(2,3))\n",
    "print(gridTravler1(3,3))\n",
    "#gridTravler(18,18)"
   ]
  },
  {
   "cell_type": "code",
   "execution_count": null,
   "metadata": {},
   "outputs": [],
   "source": []
  }
 ],
 "metadata": {
  "kernelspec": {
   "display_name": "Python 3",
   "language": "python",
   "name": "python3"
  },
  "language_info": {
   "codemirror_mode": {
    "name": "ipython",
    "version": 3
   },
   "file_extension": ".py",
   "mimetype": "text/x-python",
   "name": "python",
   "nbconvert_exporter": "python",
   "pygments_lexer": "ipython3",
   "version": "3.7.6"
  }
 },
 "nbformat": 4,
 "nbformat_minor": 4
}
